{
 "cells": [
  {
   "cell_type": "markdown",
   "metadata": {},
   "source": [
    "# SUMMARY OF SURFACES IN PYTHON\n",
    "\n",
    "## PROBLEM : Different surface formats\n",
    "\n",
    "There are quite a lot of different surface formats around. We discussed that this is a problem for implementing surfaces in python. \n",
    "\n",
    "However, gifti can be a format we can work with, and maybe write wrappers to load this in python, as well as some methods to get also xyz-format to gifti conversion. \n",
    "\n",
    "Julia is now looking into this, and trying to write simple loading functions of gifti. I guess once we have a way to create surface objects, we can move further and implement nistats for surfaces. \n",
    "\n",
    "\n",
    "## PROBLEM : FWE- correction\n",
    "\n",
    "A second topic that was docussed is cluster-wise FWE correction. I found the following link http://www.pymvpa.org/generated/mvpa2.algorithms.group_clusterthr.GroupClusterThreshold.html?highlight=fwe#r3 based on the suggestion of Basile. \n",
    "\n",
    "I also go a bit distracted and looked quickly at https://www.ncbi.nlm.nih.gov/pmc/articles/PMC1785301/, here they write some comments on assessing smoothness of the surface data etc. \n",
    "\n",
    "\n",
    "\n"
   ]
  },
  {
   "cell_type": "code",
   "execution_count": null,
   "metadata": {
    "collapsed": true
   },
   "outputs": [],
   "source": []
  }
 ],
 "metadata": {
  "kernelspec": {
   "display_name": "Python 3",
   "language": "python",
   "name": "python3"
  },
  "language_info": {
   "codemirror_mode": {
    "name": "ipython",
    "version": 3
   },
   "file_extension": ".py",
   "mimetype": "text/x-python",
   "name": "python",
   "nbconvert_exporter": "python",
   "pygments_lexer": "ipython3",
   "version": "3.6.0"
  }
 },
 "nbformat": 4,
 "nbformat_minor": 2
}
